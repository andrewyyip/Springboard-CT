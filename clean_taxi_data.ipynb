{
 "cells": [
  {
   "cell_type": "code",
   "execution_count": 73,
   "metadata": {},
   "outputs": [],
   "source": [
    "import pandas as pd\n",
    "import numpy as np\n",
    "from scipy import stats \n",
    "from datetime import datetime"
   ]
  },
  {
   "cell_type": "markdown",
   "metadata": {},
   "source": [
    "## Read in the raw taxi data.  Since the data is quite large we need to load it in chunks"
   ]
  },
  {
   "cell_type": "code",
   "execution_count": 2,
   "metadata": {},
   "outputs": [
    {
     "name": "stdout",
     "output_type": "stream",
     "text": [
      "CPU times: user 4min 9s, sys: 50.2 s, total: 4min 59s\n",
      "Wall time: 5min 6s\n"
     ]
    }
   ],
   "source": [
    "%%time\n",
    "#read the original taxi trip data csv file into chunklist\n",
    "chunklist = []\n",
    "for chunk in pd.read_csv('2016_Yellow_Taxi_Trip_Data.csv', chunksize=100000):\n",
    "     chunklist.append(chunk)"
   ]
  },
  {
   "cell_type": "code",
   "execution_count": 3,
   "metadata": {},
   "outputs": [
    {
     "name": "stdout",
     "output_type": "stream",
     "text": [
      "CPU times: user 50.7 s, sys: 3min 16s, total: 4min 7s\n",
      "Wall time: 9min 43s\n"
     ]
    }
   ],
   "source": [
    "%%time\n",
    "#combine the chunks into a dataframe\n",
    "df_taxi = pd.concat(chunklist)"
   ]
  },
  {
   "cell_type": "code",
   "execution_count": 4,
   "metadata": {},
   "outputs": [
    {
     "data": {
      "text/html": [
       "<div>\n",
       "<style scoped>\n",
       "    .dataframe tbody tr th:only-of-type {\n",
       "        vertical-align: middle;\n",
       "    }\n",
       "\n",
       "    .dataframe tbody tr th {\n",
       "        vertical-align: top;\n",
       "    }\n",
       "\n",
       "    .dataframe thead th {\n",
       "        text-align: right;\n",
       "    }\n",
       "</style>\n",
       "<table border=\"1\" class=\"dataframe\">\n",
       "  <thead>\n",
       "    <tr style=\"text-align: right;\">\n",
       "      <th></th>\n",
       "      <th>VendorID</th>\n",
       "      <th>tpep_pickup_datetime</th>\n",
       "      <th>tpep_dropoff_datetime</th>\n",
       "      <th>passenger_count</th>\n",
       "      <th>trip_distance</th>\n",
       "      <th>pickup_longitude</th>\n",
       "      <th>pickup_latitude</th>\n",
       "      <th>RatecodeID</th>\n",
       "      <th>store_and_fwd_flag</th>\n",
       "      <th>dropoff_longitude</th>\n",
       "      <th>...</th>\n",
       "      <th>payment_type</th>\n",
       "      <th>fare_amount</th>\n",
       "      <th>extra</th>\n",
       "      <th>mta_tax</th>\n",
       "      <th>tip_amount</th>\n",
       "      <th>tolls_amount</th>\n",
       "      <th>improvement_surcharge</th>\n",
       "      <th>total_amount</th>\n",
       "      <th>PULocationID</th>\n",
       "      <th>DOLocationID</th>\n",
       "    </tr>\n",
       "  </thead>\n",
       "  <tbody>\n",
       "    <tr>\n",
       "      <td>0</td>\n",
       "      <td>1</td>\n",
       "      <td>02/22/2016 06:14:21 PM</td>\n",
       "      <td>02/22/2016 06:27:21 PM</td>\n",
       "      <td>1</td>\n",
       "      <td>4.4</td>\n",
       "      <td>-74.012749</td>\n",
       "      <td>40.702610</td>\n",
       "      <td>1</td>\n",
       "      <td>N</td>\n",
       "      <td>-73.987106</td>\n",
       "      <td>...</td>\n",
       "      <td>1</td>\n",
       "      <td>15.0</td>\n",
       "      <td>1.0</td>\n",
       "      <td>0.5</td>\n",
       "      <td>1.00</td>\n",
       "      <td>0.0</td>\n",
       "      <td>0.3</td>\n",
       "      <td>17.80</td>\n",
       "      <td>NaN</td>\n",
       "      <td>NaN</td>\n",
       "    </tr>\n",
       "    <tr>\n",
       "      <td>1</td>\n",
       "      <td>1</td>\n",
       "      <td>02/10/2016 05:51:14 PM</td>\n",
       "      <td>02/10/2016 05:58:34 PM</td>\n",
       "      <td>1</td>\n",
       "      <td>1.1</td>\n",
       "      <td>-73.986183</td>\n",
       "      <td>40.757881</td>\n",
       "      <td>1</td>\n",
       "      <td>N</td>\n",
       "      <td>-73.981720</td>\n",
       "      <td>...</td>\n",
       "      <td>1</td>\n",
       "      <td>6.5</td>\n",
       "      <td>1.0</td>\n",
       "      <td>0.5</td>\n",
       "      <td>1.65</td>\n",
       "      <td>0.0</td>\n",
       "      <td>0.3</td>\n",
       "      <td>9.95</td>\n",
       "      <td>NaN</td>\n",
       "      <td>NaN</td>\n",
       "    </tr>\n",
       "    <tr>\n",
       "      <td>2</td>\n",
       "      <td>1</td>\n",
       "      <td>02/13/2016 02:56:14 PM</td>\n",
       "      <td>02/13/2016 03:13:35 PM</td>\n",
       "      <td>1</td>\n",
       "      <td>6.6</td>\n",
       "      <td>-73.981140</td>\n",
       "      <td>40.782425</td>\n",
       "      <td>1</td>\n",
       "      <td>N</td>\n",
       "      <td>-73.930641</td>\n",
       "      <td>...</td>\n",
       "      <td>2</td>\n",
       "      <td>22.0</td>\n",
       "      <td>0.0</td>\n",
       "      <td>0.5</td>\n",
       "      <td>0.00</td>\n",
       "      <td>0.0</td>\n",
       "      <td>0.3</td>\n",
       "      <td>22.80</td>\n",
       "      <td>NaN</td>\n",
       "      <td>NaN</td>\n",
       "    </tr>\n",
       "    <tr>\n",
       "      <td>3</td>\n",
       "      <td>1</td>\n",
       "      <td>02/15/2016 01:29:39 PM</td>\n",
       "      <td>02/15/2016 01:45:53 PM</td>\n",
       "      <td>2</td>\n",
       "      <td>2.2</td>\n",
       "      <td>-73.998619</td>\n",
       "      <td>40.764027</td>\n",
       "      <td>1</td>\n",
       "      <td>N</td>\n",
       "      <td>-73.981750</td>\n",
       "      <td>...</td>\n",
       "      <td>2</td>\n",
       "      <td>12.0</td>\n",
       "      <td>0.0</td>\n",
       "      <td>0.5</td>\n",
       "      <td>0.00</td>\n",
       "      <td>0.0</td>\n",
       "      <td>0.3</td>\n",
       "      <td>12.80</td>\n",
       "      <td>NaN</td>\n",
       "      <td>NaN</td>\n",
       "    </tr>\n",
       "    <tr>\n",
       "      <td>4</td>\n",
       "      <td>1</td>\n",
       "      <td>02/27/2016 11:59:52 PM</td>\n",
       "      <td>02/28/2016 12:04:18 AM</td>\n",
       "      <td>1</td>\n",
       "      <td>1.2</td>\n",
       "      <td>-73.959244</td>\n",
       "      <td>40.763435</td>\n",
       "      <td>1</td>\n",
       "      <td>N</td>\n",
       "      <td>-73.946564</td>\n",
       "      <td>...</td>\n",
       "      <td>2</td>\n",
       "      <td>6.0</td>\n",
       "      <td>0.5</td>\n",
       "      <td>0.5</td>\n",
       "      <td>0.00</td>\n",
       "      <td>0.0</td>\n",
       "      <td>0.3</td>\n",
       "      <td>7.30</td>\n",
       "      <td>NaN</td>\n",
       "      <td>NaN</td>\n",
       "    </tr>\n",
       "  </tbody>\n",
       "</table>\n",
       "<p>5 rows × 21 columns</p>\n",
       "</div>"
      ],
      "text/plain": [
       "   VendorID    tpep_pickup_datetime   tpep_dropoff_datetime  passenger_count  \\\n",
       "0         1  02/22/2016 06:14:21 PM  02/22/2016 06:27:21 PM                1   \n",
       "1         1  02/10/2016 05:51:14 PM  02/10/2016 05:58:34 PM                1   \n",
       "2         1  02/13/2016 02:56:14 PM  02/13/2016 03:13:35 PM                1   \n",
       "3         1  02/15/2016 01:29:39 PM  02/15/2016 01:45:53 PM                2   \n",
       "4         1  02/27/2016 11:59:52 PM  02/28/2016 12:04:18 AM                1   \n",
       "\n",
       "   trip_distance  pickup_longitude  pickup_latitude  RatecodeID  \\\n",
       "0            4.4        -74.012749        40.702610           1   \n",
       "1            1.1        -73.986183        40.757881           1   \n",
       "2            6.6        -73.981140        40.782425           1   \n",
       "3            2.2        -73.998619        40.764027           1   \n",
       "4            1.2        -73.959244        40.763435           1   \n",
       "\n",
       "  store_and_fwd_flag  dropoff_longitude  ...  payment_type  fare_amount  \\\n",
       "0                  N         -73.987106  ...             1         15.0   \n",
       "1                  N         -73.981720  ...             1          6.5   \n",
       "2                  N         -73.930641  ...             2         22.0   \n",
       "3                  N         -73.981750  ...             2         12.0   \n",
       "4                  N         -73.946564  ...             2          6.0   \n",
       "\n",
       "   extra  mta_tax  tip_amount  tolls_amount  improvement_surcharge  \\\n",
       "0    1.0      0.5        1.00           0.0                    0.3   \n",
       "1    1.0      0.5        1.65           0.0                    0.3   \n",
       "2    0.0      0.5        0.00           0.0                    0.3   \n",
       "3    0.0      0.5        0.00           0.0                    0.3   \n",
       "4    0.5      0.5        0.00           0.0                    0.3   \n",
       "\n",
       "   total_amount  PULocationID  DOLocationID  \n",
       "0         17.80           NaN           NaN  \n",
       "1          9.95           NaN           NaN  \n",
       "2         22.80           NaN           NaN  \n",
       "3         12.80           NaN           NaN  \n",
       "4          7.30           NaN           NaN  \n",
       "\n",
       "[5 rows x 21 columns]"
      ]
     },
     "execution_count": 4,
     "metadata": {},
     "output_type": "execute_result"
    }
   ],
   "source": [
    "df_taxi.head()"
   ]
  },
  {
   "cell_type": "markdown",
   "metadata": {},
   "source": [
    "## Keep only the columns that we need (pickup, dropoff, and trip_distance)"
   ]
  },
  {
   "cell_type": "code",
   "execution_count": 5,
   "metadata": {},
   "outputs": [
    {
     "data": {
      "text/plain": [
       "Index(['VendorID', 'tpep_pickup_datetime', 'tpep_dropoff_datetime',\n",
       "       'passenger_count', 'trip_distance', 'pickup_longitude',\n",
       "       'pickup_latitude', 'RatecodeID', 'store_and_fwd_flag',\n",
       "       'dropoff_longitude', 'dropoff_latitude', 'payment_type', 'fare_amount',\n",
       "       'extra', 'mta_tax', 'tip_amount', 'tolls_amount',\n",
       "       'improvement_surcharge', 'total_amount', 'PULocationID',\n",
       "       'DOLocationID'],\n",
       "      dtype='object')"
      ]
     },
     "execution_count": 5,
     "metadata": {},
     "output_type": "execute_result"
    }
   ],
   "source": [
    "df_taxi.columns"
   ]
  },
  {
   "cell_type": "code",
   "execution_count": 6,
   "metadata": {},
   "outputs": [],
   "source": [
    "#drop the columns that we don't need to keep\n",
    "df_taxi = df_taxi.drop(columns=['VendorID', 'passenger_count', 'RatecodeID', 'store_and_fwd_flag', 'payment_type',\n",
    "                               'fare_amount', 'extra', 'mta_tax', 'tip_amount', 'tolls_amount', \n",
    "                                'improvement_surcharge', 'total_amount', 'pickup_longitude', 'pickup_latitude', \n",
    "                                'dropoff_longitude', 'dropoff_latitude', 'PULocationID', 'DOLocationID'])"
   ]
  },
  {
   "cell_type": "code",
   "execution_count": 7,
   "metadata": {},
   "outputs": [
    {
     "data": {
      "text/html": [
       "<div>\n",
       "<style scoped>\n",
       "    .dataframe tbody tr th:only-of-type {\n",
       "        vertical-align: middle;\n",
       "    }\n",
       "\n",
       "    .dataframe tbody tr th {\n",
       "        vertical-align: top;\n",
       "    }\n",
       "\n",
       "    .dataframe thead th {\n",
       "        text-align: right;\n",
       "    }\n",
       "</style>\n",
       "<table border=\"1\" class=\"dataframe\">\n",
       "  <thead>\n",
       "    <tr style=\"text-align: right;\">\n",
       "      <th></th>\n",
       "      <th>tpep_pickup_datetime</th>\n",
       "      <th>tpep_dropoff_datetime</th>\n",
       "      <th>trip_distance</th>\n",
       "    </tr>\n",
       "  </thead>\n",
       "  <tbody>\n",
       "    <tr>\n",
       "      <td>0</td>\n",
       "      <td>02/22/2016 06:14:21 PM</td>\n",
       "      <td>02/22/2016 06:27:21 PM</td>\n",
       "      <td>4.4</td>\n",
       "    </tr>\n",
       "    <tr>\n",
       "      <td>1</td>\n",
       "      <td>02/10/2016 05:51:14 PM</td>\n",
       "      <td>02/10/2016 05:58:34 PM</td>\n",
       "      <td>1.1</td>\n",
       "    </tr>\n",
       "    <tr>\n",
       "      <td>2</td>\n",
       "      <td>02/13/2016 02:56:14 PM</td>\n",
       "      <td>02/13/2016 03:13:35 PM</td>\n",
       "      <td>6.6</td>\n",
       "    </tr>\n",
       "    <tr>\n",
       "      <td>3</td>\n",
       "      <td>02/15/2016 01:29:39 PM</td>\n",
       "      <td>02/15/2016 01:45:53 PM</td>\n",
       "      <td>2.2</td>\n",
       "    </tr>\n",
       "    <tr>\n",
       "      <td>4</td>\n",
       "      <td>02/27/2016 11:59:52 PM</td>\n",
       "      <td>02/28/2016 12:04:18 AM</td>\n",
       "      <td>1.2</td>\n",
       "    </tr>\n",
       "  </tbody>\n",
       "</table>\n",
       "</div>"
      ],
      "text/plain": [
       "     tpep_pickup_datetime   tpep_dropoff_datetime  trip_distance\n",
       "0  02/22/2016 06:14:21 PM  02/22/2016 06:27:21 PM            4.4\n",
       "1  02/10/2016 05:51:14 PM  02/10/2016 05:58:34 PM            1.1\n",
       "2  02/13/2016 02:56:14 PM  02/13/2016 03:13:35 PM            6.6\n",
       "3  02/15/2016 01:29:39 PM  02/15/2016 01:45:53 PM            2.2\n",
       "4  02/27/2016 11:59:52 PM  02/28/2016 12:04:18 AM            1.2"
      ]
     },
     "execution_count": 7,
     "metadata": {},
     "output_type": "execute_result"
    }
   ],
   "source": [
    "df_taxi.head()"
   ]
  },
  {
   "cell_type": "markdown",
   "metadata": {},
   "source": [
    "### Rename the datetime columns "
   ]
  },
  {
   "cell_type": "code",
   "execution_count": 8,
   "metadata": {},
   "outputs": [],
   "source": [
    "df_taxi = df_taxi.rename(columns = {'tpep_pickup_datetime': 'pickup', 'tpep_dropoff_datetime':'dropoff'})"
   ]
  },
  {
   "cell_type": "code",
   "execution_count": 11,
   "metadata": {},
   "outputs": [
    {
     "data": {
      "text/html": [
       "<div>\n",
       "<style scoped>\n",
       "    .dataframe tbody tr th:only-of-type {\n",
       "        vertical-align: middle;\n",
       "    }\n",
       "\n",
       "    .dataframe tbody tr th {\n",
       "        vertical-align: top;\n",
       "    }\n",
       "\n",
       "    .dataframe thead th {\n",
       "        text-align: right;\n",
       "    }\n",
       "</style>\n",
       "<table border=\"1\" class=\"dataframe\">\n",
       "  <thead>\n",
       "    <tr style=\"text-align: right;\">\n",
       "      <th></th>\n",
       "      <th>pickup</th>\n",
       "      <th>dropoff</th>\n",
       "      <th>trip_distance</th>\n",
       "    </tr>\n",
       "  </thead>\n",
       "  <tbody>\n",
       "    <tr>\n",
       "      <td>0</td>\n",
       "      <td>02/22/2016 06:14:21 PM</td>\n",
       "      <td>02/22/2016 06:27:21 PM</td>\n",
       "      <td>4.4</td>\n",
       "    </tr>\n",
       "    <tr>\n",
       "      <td>1</td>\n",
       "      <td>02/10/2016 05:51:14 PM</td>\n",
       "      <td>02/10/2016 05:58:34 PM</td>\n",
       "      <td>1.1</td>\n",
       "    </tr>\n",
       "    <tr>\n",
       "      <td>2</td>\n",
       "      <td>02/13/2016 02:56:14 PM</td>\n",
       "      <td>02/13/2016 03:13:35 PM</td>\n",
       "      <td>6.6</td>\n",
       "    </tr>\n",
       "    <tr>\n",
       "      <td>3</td>\n",
       "      <td>02/15/2016 01:29:39 PM</td>\n",
       "      <td>02/15/2016 01:45:53 PM</td>\n",
       "      <td>2.2</td>\n",
       "    </tr>\n",
       "    <tr>\n",
       "      <td>4</td>\n",
       "      <td>02/27/2016 11:59:52 PM</td>\n",
       "      <td>02/28/2016 12:04:18 AM</td>\n",
       "      <td>1.2</td>\n",
       "    </tr>\n",
       "  </tbody>\n",
       "</table>\n",
       "</div>"
      ],
      "text/plain": [
       "                   pickup                 dropoff  trip_distance\n",
       "0  02/22/2016 06:14:21 PM  02/22/2016 06:27:21 PM            4.4\n",
       "1  02/10/2016 05:51:14 PM  02/10/2016 05:58:34 PM            1.1\n",
       "2  02/13/2016 02:56:14 PM  02/13/2016 03:13:35 PM            6.6\n",
       "3  02/15/2016 01:29:39 PM  02/15/2016 01:45:53 PM            2.2\n",
       "4  02/27/2016 11:59:52 PM  02/28/2016 12:04:18 AM            1.2"
      ]
     },
     "execution_count": 11,
     "metadata": {},
     "output_type": "execute_result"
    }
   ],
   "source": [
    "df_taxi.head()"
   ]
  },
  {
   "cell_type": "markdown",
   "metadata": {},
   "source": [
    "## Convert the pickup and dropoff columns to datetime objects"
   ]
  },
  {
   "cell_type": "code",
   "execution_count": 23,
   "metadata": {},
   "outputs": [
    {
     "name": "stdout",
     "output_type": "stream",
     "text": [
      "CPU times: user 4h 38min 52s, sys: 2min 32s, total: 4h 41min 24s\n",
      "Wall time: 4h 44min 40s\n"
     ]
    }
   ],
   "source": [
    "%%time\n",
    "df_taxi['pickup'] = pd.to_datetime(df_taxi['pickup'], infer_datetime_format = True)\n",
    "df_taxi['dropoff'] = pd.to_datetime(df_taxi['dropoff'], infer_datetime_format = True)"
   ]
  },
  {
   "cell_type": "markdown",
   "metadata": {},
   "source": [
    "## Create a column trip_time from the dropoff and pickup datetime objects"
   ]
  },
  {
   "cell_type": "code",
   "execution_count": 25,
   "metadata": {},
   "outputs": [],
   "source": [
    "df_taxi['trip_time'] = df_taxi.dropoff - df_taxi.pickup"
   ]
  },
  {
   "cell_type": "code",
   "execution_count": 26,
   "metadata": {},
   "outputs": [
    {
     "data": {
      "text/html": [
       "<div>\n",
       "<style scoped>\n",
       "    .dataframe tbody tr th:only-of-type {\n",
       "        vertical-align: middle;\n",
       "    }\n",
       "\n",
       "    .dataframe tbody tr th {\n",
       "        vertical-align: top;\n",
       "    }\n",
       "\n",
       "    .dataframe thead th {\n",
       "        text-align: right;\n",
       "    }\n",
       "</style>\n",
       "<table border=\"1\" class=\"dataframe\">\n",
       "  <thead>\n",
       "    <tr style=\"text-align: right;\">\n",
       "      <th></th>\n",
       "      <th>pickup</th>\n",
       "      <th>dropoff</th>\n",
       "      <th>trip_distance</th>\n",
       "      <th>trip_time</th>\n",
       "    </tr>\n",
       "  </thead>\n",
       "  <tbody>\n",
       "    <tr>\n",
       "      <td>0</td>\n",
       "      <td>2016-02-22 18:14:21</td>\n",
       "      <td>2016-02-22 18:27:21</td>\n",
       "      <td>4.4</td>\n",
       "      <td>00:13:00</td>\n",
       "    </tr>\n",
       "    <tr>\n",
       "      <td>1</td>\n",
       "      <td>2016-02-10 17:51:14</td>\n",
       "      <td>2016-02-10 17:58:34</td>\n",
       "      <td>1.1</td>\n",
       "      <td>00:07:20</td>\n",
       "    </tr>\n",
       "    <tr>\n",
       "      <td>2</td>\n",
       "      <td>2016-02-13 14:56:14</td>\n",
       "      <td>2016-02-13 15:13:35</td>\n",
       "      <td>6.6</td>\n",
       "      <td>00:17:21</td>\n",
       "    </tr>\n",
       "    <tr>\n",
       "      <td>3</td>\n",
       "      <td>2016-02-15 13:29:39</td>\n",
       "      <td>2016-02-15 13:45:53</td>\n",
       "      <td>2.2</td>\n",
       "      <td>00:16:14</td>\n",
       "    </tr>\n",
       "    <tr>\n",
       "      <td>4</td>\n",
       "      <td>2016-02-27 23:59:52</td>\n",
       "      <td>2016-02-28 00:04:18</td>\n",
       "      <td>1.2</td>\n",
       "      <td>00:04:26</td>\n",
       "    </tr>\n",
       "  </tbody>\n",
       "</table>\n",
       "</div>"
      ],
      "text/plain": [
       "               pickup             dropoff  trip_distance trip_time\n",
       "0 2016-02-22 18:14:21 2016-02-22 18:27:21            4.4  00:13:00\n",
       "1 2016-02-10 17:51:14 2016-02-10 17:58:34            1.1  00:07:20\n",
       "2 2016-02-13 14:56:14 2016-02-13 15:13:35            6.6  00:17:21\n",
       "3 2016-02-15 13:29:39 2016-02-15 13:45:53            2.2  00:16:14\n",
       "4 2016-02-27 23:59:52 2016-02-28 00:04:18            1.2  00:04:26"
      ]
     },
     "execution_count": 26,
     "metadata": {},
     "output_type": "execute_result"
    }
   ],
   "source": [
    "df_taxi.head()"
   ]
  },
  {
   "cell_type": "markdown",
   "metadata": {},
   "source": [
    "## Create a speed column using the trip_distance and trip_time"
   ]
  },
  {
   "cell_type": "code",
   "execution_count": 28,
   "metadata": {},
   "outputs": [
    {
     "data": {
      "text/plain": [
       "780.0"
      ]
     },
     "execution_count": 28,
     "metadata": {},
     "output_type": "execute_result"
    }
   ],
   "source": [
    "df_taxi.loc[0,'trip_time'].total_seconds()"
   ]
  },
  {
   "cell_type": "code",
   "execution_count": 30,
   "metadata": {},
   "outputs": [],
   "source": [
    "df_taxi['speed'] = df_taxi['trip_distance'] / (df_taxi['trip_time'].dt.total_seconds() / 3600)"
   ]
  },
  {
   "cell_type": "code",
   "execution_count": 31,
   "metadata": {},
   "outputs": [
    {
     "data": {
      "text/html": [
       "<div>\n",
       "<style scoped>\n",
       "    .dataframe tbody tr th:only-of-type {\n",
       "        vertical-align: middle;\n",
       "    }\n",
       "\n",
       "    .dataframe tbody tr th {\n",
       "        vertical-align: top;\n",
       "    }\n",
       "\n",
       "    .dataframe thead th {\n",
       "        text-align: right;\n",
       "    }\n",
       "</style>\n",
       "<table border=\"1\" class=\"dataframe\">\n",
       "  <thead>\n",
       "    <tr style=\"text-align: right;\">\n",
       "      <th></th>\n",
       "      <th>pickup</th>\n",
       "      <th>dropoff</th>\n",
       "      <th>trip_distance</th>\n",
       "      <th>trip_time</th>\n",
       "      <th>speed</th>\n",
       "    </tr>\n",
       "  </thead>\n",
       "  <tbody>\n",
       "    <tr>\n",
       "      <td>0</td>\n",
       "      <td>2016-02-22 18:14:21</td>\n",
       "      <td>2016-02-22 18:27:21</td>\n",
       "      <td>4.4</td>\n",
       "      <td>00:13:00</td>\n",
       "      <td>20.307692</td>\n",
       "    </tr>\n",
       "    <tr>\n",
       "      <td>1</td>\n",
       "      <td>2016-02-10 17:51:14</td>\n",
       "      <td>2016-02-10 17:58:34</td>\n",
       "      <td>1.1</td>\n",
       "      <td>00:07:20</td>\n",
       "      <td>9.000000</td>\n",
       "    </tr>\n",
       "    <tr>\n",
       "      <td>2</td>\n",
       "      <td>2016-02-13 14:56:14</td>\n",
       "      <td>2016-02-13 15:13:35</td>\n",
       "      <td>6.6</td>\n",
       "      <td>00:17:21</td>\n",
       "      <td>22.824207</td>\n",
       "    </tr>\n",
       "    <tr>\n",
       "      <td>3</td>\n",
       "      <td>2016-02-15 13:29:39</td>\n",
       "      <td>2016-02-15 13:45:53</td>\n",
       "      <td>2.2</td>\n",
       "      <td>00:16:14</td>\n",
       "      <td>8.131417</td>\n",
       "    </tr>\n",
       "    <tr>\n",
       "      <td>4</td>\n",
       "      <td>2016-02-27 23:59:52</td>\n",
       "      <td>2016-02-28 00:04:18</td>\n",
       "      <td>1.2</td>\n",
       "      <td>00:04:26</td>\n",
       "      <td>16.240602</td>\n",
       "    </tr>\n",
       "  </tbody>\n",
       "</table>\n",
       "</div>"
      ],
      "text/plain": [
       "               pickup             dropoff  trip_distance trip_time      speed\n",
       "0 2016-02-22 18:14:21 2016-02-22 18:27:21            4.4  00:13:00  20.307692\n",
       "1 2016-02-10 17:51:14 2016-02-10 17:58:34            1.1  00:07:20   9.000000\n",
       "2 2016-02-13 14:56:14 2016-02-13 15:13:35            6.6  00:17:21  22.824207\n",
       "3 2016-02-15 13:29:39 2016-02-15 13:45:53            2.2  00:16:14   8.131417\n",
       "4 2016-02-27 23:59:52 2016-02-28 00:04:18            1.2  00:04:26  16.240602"
      ]
     },
     "execution_count": 31,
     "metadata": {},
     "output_type": "execute_result"
    }
   ],
   "source": [
    "df_taxi.head()"
   ]
  },
  {
   "cell_type": "code",
   "execution_count": 32,
   "metadata": {},
   "outputs": [
    {
     "data": {
      "text/plain": [
       "count    6.094906e+07\n",
       "mean              inf\n",
       "std               NaN\n",
       "min     -3.698819e+08\n",
       "25%      7.309645e+00\n",
       "50%      1.005587e+01\n",
       "75%      1.382199e+01\n",
       "max               inf\n",
       "Name: speed, dtype: float64"
      ]
     },
     "execution_count": 32,
     "metadata": {},
     "output_type": "execute_result"
    }
   ],
   "source": [
    "df_taxi.speed.describe()"
   ]
  },
  {
   "cell_type": "markdown",
   "metadata": {},
   "source": [
    "## Drop the rows where the speed is greater than 60, and less than 1.  Intuitively these limits seems reasonable 60 mph is very fast and 1 is very slow."
   ]
  },
  {
   "cell_type": "code",
   "execution_count": 33,
   "metadata": {},
   "outputs": [],
   "source": [
    "#drop rows where speed > 60\n",
    "df_taxi = df_taxi.drop(df_taxi[df_taxi.speed > 60].index)"
   ]
  },
  {
   "cell_type": "code",
   "execution_count": 34,
   "metadata": {},
   "outputs": [],
   "source": [
    "#drop rows where speed < 0\n",
    "df_taxi = df_taxi.drop(df_taxi[df_taxi.speed < 1].index)"
   ]
  },
  {
   "cell_type": "code",
   "execution_count": 35,
   "metadata": {},
   "outputs": [
    {
     "name": "stdout",
     "output_type": "stream",
     "text": [
      "<class 'pandas.core.frame.DataFrame'>\n",
      "Int64Index: 60592131 entries, 0 to 61084517\n",
      "Data columns (total 5 columns):\n",
      "pickup           datetime64[ns]\n",
      "dropoff          datetime64[ns]\n",
      "trip_distance    float64\n",
      "trip_time        timedelta64[ns]\n",
      "speed            float64\n",
      "dtypes: datetime64[ns](2), float64(2), timedelta64[ns](1)\n",
      "memory usage: 2.7 GB\n"
     ]
    }
   ],
   "source": [
    "df_taxi.info()"
   ]
  },
  {
   "cell_type": "code",
   "execution_count": 37,
   "metadata": {},
   "outputs": [
    {
     "data": {
      "text/plain": [
       "count    6.045667e+07\n",
       "mean     1.145266e+01\n",
       "std      6.160937e+00\n",
       "min      1.000000e+00\n",
       "25%      7.357664e+00\n",
       "50%      1.008237e+01\n",
       "75%      1.382488e+01\n",
       "max      6.000000e+01\n",
       "Name: speed, dtype: float64"
      ]
     },
     "execution_count": 37,
     "metadata": {},
     "output_type": "execute_result"
    }
   ],
   "source": [
    "df_taxi.speed.describe()"
   ]
  },
  {
   "cell_type": "markdown",
   "metadata": {},
   "source": [
    "## Checking the trip_distance column, we can see that there are at least some of the trips with a distance of 0.  These make no sense as well so let's get rid of them."
   ]
  },
  {
   "cell_type": "code",
   "execution_count": 60,
   "metadata": {},
   "outputs": [
    {
     "data": {
      "text/plain": [
       "count    6.059213e+07\n",
       "mean     2.920450e+00\n",
       "std      3.615711e+00\n",
       "min      0.000000e+00\n",
       "25%      1.000000e+00\n",
       "50%      1.700000e+00\n",
       "75%      3.100000e+00\n",
       "max      5.245000e+02\n",
       "Name: trip_distance, dtype: float64"
      ]
     },
     "execution_count": 60,
     "metadata": {},
     "output_type": "execute_result"
    }
   ],
   "source": [
    "df_taxi.trip_distance.describe()"
   ]
  },
  {
   "cell_type": "code",
   "execution_count": 61,
   "metadata": {},
   "outputs": [],
   "source": [
    "df_taxi = df_taxi.drop(df_taxi[df_taxi.trip_distance == 0].index)"
   ]
  },
  {
   "cell_type": "code",
   "execution_count": 62,
   "metadata": {},
   "outputs": [
    {
     "name": "stdout",
     "output_type": "stream",
     "text": [
      "<class 'pandas.core.frame.DataFrame'>\n",
      "Int64Index: 60456674 entries, 0 to 61084517\n",
      "Data columns (total 5 columns):\n",
      "pickup           datetime64[ns]\n",
      "dropoff          datetime64[ns]\n",
      "trip_distance    float64\n",
      "trip_time        timedelta64[ns]\n",
      "speed            float64\n",
      "dtypes: datetime64[ns](2), float64(2), timedelta64[ns](1)\n",
      "memory usage: 2.7 GB\n"
     ]
    }
   ],
   "source": [
    "df_taxi.info()"
   ]
  },
  {
   "cell_type": "code",
   "execution_count": 53,
   "metadata": {},
   "outputs": [],
   "source": [
    "df_taxi_grouped = df_taxi.groupby([df_taxi.pickup.dt.month, df_taxi.pickup.dt.day])"
   ]
  },
  {
   "cell_type": "markdown",
   "metadata": {},
   "source": [
    "## Using our list of days from the weather data, we will keep only the days that we want"
   ]
  },
  {
   "cell_type": "code",
   "execution_count": 67,
   "metadata": {},
   "outputs": [],
   "source": [
    "days = [(11,29), (2,24), (5,3), (10,27), (3,4), (2,5), (3,21), (12,17), (7,2), (9,12)]"
   ]
  },
  {
   "cell_type": "code",
   "execution_count": 68,
   "metadata": {},
   "outputs": [],
   "source": [
    "templist = []\n",
    "for i in days:\n",
    "    templist.append(df_taxi_grouped.get_group(i))"
   ]
  },
  {
   "cell_type": "code",
   "execution_count": 69,
   "metadata": {},
   "outputs": [],
   "source": [
    "df_taxi_days = pd.concat(templist)"
   ]
  },
  {
   "cell_type": "code",
   "execution_count": 92,
   "metadata": {},
   "outputs": [
    {
     "data": {
      "text/html": [
       "<div>\n",
       "<style scoped>\n",
       "    .dataframe tbody tr th:only-of-type {\n",
       "        vertical-align: middle;\n",
       "    }\n",
       "\n",
       "    .dataframe tbody tr th {\n",
       "        vertical-align: top;\n",
       "    }\n",
       "\n",
       "    .dataframe thead th {\n",
       "        text-align: right;\n",
       "    }\n",
       "</style>\n",
       "<table border=\"1\" class=\"dataframe\">\n",
       "  <thead>\n",
       "    <tr style=\"text-align: right;\">\n",
       "      <th></th>\n",
       "      <th>pickup</th>\n",
       "      <th>dropoff</th>\n",
       "      <th>trip_distance</th>\n",
       "      <th>trip_time</th>\n",
       "      <th>speed</th>\n",
       "    </tr>\n",
       "  </thead>\n",
       "  <tbody>\n",
       "    <tr>\n",
       "      <td>32554703</td>\n",
       "      <td>2016-11-29 09:08:33</td>\n",
       "      <td>2016-11-29 09:13:15</td>\n",
       "      <td>0.5</td>\n",
       "      <td>00:04:42</td>\n",
       "      <td>6.382979</td>\n",
       "    </tr>\n",
       "    <tr>\n",
       "      <td>32554807</td>\n",
       "      <td>2016-11-29 12:22:40</td>\n",
       "      <td>2016-11-29 12:39:29</td>\n",
       "      <td>1.4</td>\n",
       "      <td>00:16:49</td>\n",
       "      <td>4.995045</td>\n",
       "    </tr>\n",
       "    <tr>\n",
       "      <td>32554904</td>\n",
       "      <td>2016-11-29 13:32:14</td>\n",
       "      <td>2016-11-29 13:52:12</td>\n",
       "      <td>1.5</td>\n",
       "      <td>00:19:58</td>\n",
       "      <td>4.507513</td>\n",
       "    </tr>\n",
       "    <tr>\n",
       "      <td>32555166</td>\n",
       "      <td>2016-11-29 07:13:08</td>\n",
       "      <td>2016-11-29 07:39:40</td>\n",
       "      <td>12.0</td>\n",
       "      <td>00:26:32</td>\n",
       "      <td>27.135678</td>\n",
       "    </tr>\n",
       "    <tr>\n",
       "      <td>32555652</td>\n",
       "      <td>2016-11-29 22:51:20</td>\n",
       "      <td>2016-11-29 23:08:06</td>\n",
       "      <td>4.1</td>\n",
       "      <td>00:16:46</td>\n",
       "      <td>14.671968</td>\n",
       "    </tr>\n",
       "  </tbody>\n",
       "</table>\n",
       "</div>"
      ],
      "text/plain": [
       "                      pickup             dropoff  trip_distance trip_time  \\\n",
       "32554703 2016-11-29 09:08:33 2016-11-29 09:13:15            0.5  00:04:42   \n",
       "32554807 2016-11-29 12:22:40 2016-11-29 12:39:29            1.4  00:16:49   \n",
       "32554904 2016-11-29 13:32:14 2016-11-29 13:52:12            1.5  00:19:58   \n",
       "32555166 2016-11-29 07:13:08 2016-11-29 07:39:40           12.0  00:26:32   \n",
       "32555652 2016-11-29 22:51:20 2016-11-29 23:08:06            4.1  00:16:46   \n",
       "\n",
       "              speed  \n",
       "32554703   6.382979  \n",
       "32554807   4.995045  \n",
       "32554904   4.507513  \n",
       "32555166  27.135678  \n",
       "32555652  14.671968  "
      ]
     },
     "execution_count": 92,
     "metadata": {},
     "output_type": "execute_result"
    }
   ],
   "source": [
    "df_taxi_days.head()"
   ]
  },
  {
   "cell_type": "code",
   "execution_count": 121,
   "metadata": {},
   "outputs": [
    {
     "name": "stdout",
     "output_type": "stream",
     "text": [
      "CPU times: user 753 ms, sys: 543 ms, total: 1.3 s\n",
      "Wall time: 1.33 s\n"
     ]
    }
   ],
   "source": [
    "%%time\n",
    "#Sort the dataframe by the pickup datetime\n",
    "df_taxi_days.sort_values(by = ['pickup'], ascending = True, inplace = True)"
   ]
  },
  {
   "cell_type": "code",
   "execution_count": 124,
   "metadata": {},
   "outputs": [],
   "source": [
    "df_taxi_days.reset_index(drop = True, inplace = True)"
   ]
  },
  {
   "cell_type": "code",
   "execution_count": 125,
   "metadata": {},
   "outputs": [
    {
     "data": {
      "text/html": [
       "<div>\n",
       "<style scoped>\n",
       "    .dataframe tbody tr th:only-of-type {\n",
       "        vertical-align: middle;\n",
       "    }\n",
       "\n",
       "    .dataframe tbody tr th {\n",
       "        vertical-align: top;\n",
       "    }\n",
       "\n",
       "    .dataframe thead th {\n",
       "        text-align: right;\n",
       "    }\n",
       "</style>\n",
       "<table border=\"1\" class=\"dataframe\">\n",
       "  <thead>\n",
       "    <tr style=\"text-align: right;\">\n",
       "      <th></th>\n",
       "      <th>pickup</th>\n",
       "      <th>dropoff</th>\n",
       "      <th>trip_distance</th>\n",
       "      <th>trip_time</th>\n",
       "      <th>speed</th>\n",
       "    </tr>\n",
       "  </thead>\n",
       "  <tbody>\n",
       "    <tr>\n",
       "      <td>0</td>\n",
       "      <td>2016-02-05 00:00:00</td>\n",
       "      <td>2016-02-05 00:08:02</td>\n",
       "      <td>1.5</td>\n",
       "      <td>00:08:02</td>\n",
       "      <td>11.203320</td>\n",
       "    </tr>\n",
       "    <tr>\n",
       "      <td>1</td>\n",
       "      <td>2016-02-05 00:00:01</td>\n",
       "      <td>2016-02-05 00:14:36</td>\n",
       "      <td>3.0</td>\n",
       "      <td>00:14:35</td>\n",
       "      <td>12.342857</td>\n",
       "    </tr>\n",
       "    <tr>\n",
       "      <td>2</td>\n",
       "      <td>2016-02-05 00:00:02</td>\n",
       "      <td>2016-02-05 00:21:48</td>\n",
       "      <td>4.0</td>\n",
       "      <td>00:21:46</td>\n",
       "      <td>11.026034</td>\n",
       "    </tr>\n",
       "    <tr>\n",
       "      <td>3</td>\n",
       "      <td>2016-02-05 00:00:02</td>\n",
       "      <td>2016-02-05 00:02:20</td>\n",
       "      <td>0.9</td>\n",
       "      <td>00:02:18</td>\n",
       "      <td>23.478261</td>\n",
       "    </tr>\n",
       "    <tr>\n",
       "      <td>4</td>\n",
       "      <td>2016-02-05 00:00:03</td>\n",
       "      <td>2016-02-05 00:05:17</td>\n",
       "      <td>0.6</td>\n",
       "      <td>00:05:14</td>\n",
       "      <td>6.878981</td>\n",
       "    </tr>\n",
       "  </tbody>\n",
       "</table>\n",
       "</div>"
      ],
      "text/plain": [
       "               pickup             dropoff  trip_distance trip_time      speed\n",
       "0 2016-02-05 00:00:00 2016-02-05 00:08:02            1.5  00:08:02  11.203320\n",
       "1 2016-02-05 00:00:01 2016-02-05 00:14:36            3.0  00:14:35  12.342857\n",
       "2 2016-02-05 00:00:02 2016-02-05 00:21:48            4.0  00:21:46  11.026034\n",
       "3 2016-02-05 00:00:02 2016-02-05 00:02:20            0.9  00:02:18  23.478261\n",
       "4 2016-02-05 00:00:03 2016-02-05 00:05:17            0.6  00:05:14   6.878981"
      ]
     },
     "execution_count": 125,
     "metadata": {},
     "output_type": "execute_result"
    }
   ],
   "source": [
    "df_taxi_days.head()"
   ]
  },
  {
   "cell_type": "code",
   "execution_count": 126,
   "metadata": {},
   "outputs": [
    {
     "data": {
      "text/html": [
       "<div>\n",
       "<style scoped>\n",
       "    .dataframe tbody tr th:only-of-type {\n",
       "        vertical-align: middle;\n",
       "    }\n",
       "\n",
       "    .dataframe tbody tr th {\n",
       "        vertical-align: top;\n",
       "    }\n",
       "\n",
       "    .dataframe thead th {\n",
       "        text-align: right;\n",
       "    }\n",
       "</style>\n",
       "<table border=\"1\" class=\"dataframe\">\n",
       "  <thead>\n",
       "    <tr style=\"text-align: right;\">\n",
       "      <th></th>\n",
       "      <th>pickup</th>\n",
       "      <th>dropoff</th>\n",
       "      <th>trip_distance</th>\n",
       "      <th>trip_time</th>\n",
       "      <th>speed</th>\n",
       "    </tr>\n",
       "  </thead>\n",
       "  <tbody>\n",
       "    <tr>\n",
       "      <td>1688275</td>\n",
       "      <td>2016-12-17 23:59:58</td>\n",
       "      <td>2016-12-18 00:30:51</td>\n",
       "      <td>4.4</td>\n",
       "      <td>00:30:53</td>\n",
       "      <td>8.548300</td>\n",
       "    </tr>\n",
       "    <tr>\n",
       "      <td>1688276</td>\n",
       "      <td>2016-12-17 23:59:58</td>\n",
       "      <td>2016-12-18 00:22:15</td>\n",
       "      <td>10.2</td>\n",
       "      <td>00:22:17</td>\n",
       "      <td>27.464473</td>\n",
       "    </tr>\n",
       "    <tr>\n",
       "      <td>1688277</td>\n",
       "      <td>2016-12-17 23:59:58</td>\n",
       "      <td>2016-12-18 00:14:03</td>\n",
       "      <td>1.4</td>\n",
       "      <td>00:14:05</td>\n",
       "      <td>5.964497</td>\n",
       "    </tr>\n",
       "    <tr>\n",
       "      <td>1688278</td>\n",
       "      <td>2016-12-17 23:59:59</td>\n",
       "      <td>2016-12-18 00:13:56</td>\n",
       "      <td>2.4</td>\n",
       "      <td>00:13:57</td>\n",
       "      <td>10.322581</td>\n",
       "    </tr>\n",
       "    <tr>\n",
       "      <td>1688279</td>\n",
       "      <td>2016-12-17 23:59:59</td>\n",
       "      <td>2016-12-18 00:06:58</td>\n",
       "      <td>1.6</td>\n",
       "      <td>00:06:59</td>\n",
       "      <td>13.747017</td>\n",
       "    </tr>\n",
       "  </tbody>\n",
       "</table>\n",
       "</div>"
      ],
      "text/plain": [
       "                     pickup             dropoff  trip_distance trip_time  \\\n",
       "1688275 2016-12-17 23:59:58 2016-12-18 00:30:51            4.4  00:30:53   \n",
       "1688276 2016-12-17 23:59:58 2016-12-18 00:22:15           10.2  00:22:17   \n",
       "1688277 2016-12-17 23:59:58 2016-12-18 00:14:03            1.4  00:14:05   \n",
       "1688278 2016-12-17 23:59:59 2016-12-18 00:13:56            2.4  00:13:57   \n",
       "1688279 2016-12-17 23:59:59 2016-12-18 00:06:58            1.6  00:06:59   \n",
       "\n",
       "             speed  \n",
       "1688275   8.548300  \n",
       "1688276  27.464473  \n",
       "1688277   5.964497  \n",
       "1688278  10.322581  \n",
       "1688279  13.747017  "
      ]
     },
     "execution_count": 126,
     "metadata": {},
     "output_type": "execute_result"
    }
   ],
   "source": [
    "df_taxi_days.tail()"
   ]
  },
  {
   "cell_type": "code",
   "execution_count": 127,
   "metadata": {},
   "outputs": [
    {
     "name": "stdout",
     "output_type": "stream",
     "text": [
      "CPU times: user 43.3 s, sys: 1.15 s, total: 44.4 s\n",
      "Wall time: 45.5 s\n"
     ]
    }
   ],
   "source": [
    "%%time\n",
    "#write the dataframe to a csv file\n",
    "df_taxi_days.to_csv('taxi_edit.csv', index = False)"
   ]
  },
  {
   "cell_type": "code",
   "execution_count": null,
   "metadata": {},
   "outputs": [],
   "source": []
  }
 ],
 "metadata": {
  "kernelspec": {
   "display_name": "Python 3",
   "language": "python",
   "name": "python3"
  },
  "language_info": {
   "codemirror_mode": {
    "name": "ipython",
    "version": 3
   },
   "file_extension": ".py",
   "mimetype": "text/x-python",
   "name": "python",
   "nbconvert_exporter": "python",
   "pygments_lexer": "ipython3",
   "version": "3.7.3"
  }
 },
 "nbformat": 4,
 "nbformat_minor": 2
}
