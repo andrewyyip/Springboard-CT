{
 "cells": [
  {
   "cell_type": "code",
   "execution_count": 1,
   "metadata": {},
   "outputs": [],
   "source": [
    "import pandas as pd\n",
    "import numpy as np\n",
    "from datetime import datetime, timedelta"
   ]
  },
  {
   "cell_type": "markdown",
   "metadata": {},
   "source": [
    "## Read in weather data"
   ]
  },
  {
   "cell_type": "code",
   "execution_count": 2,
   "metadata": {},
   "outputs": [],
   "source": [
    "#read the weather data file\n",
    "\n",
    "df_weather = pd.read_csv('weather_edit.csv')"
   ]
  },
  {
   "cell_type": "code",
   "execution_count": 3,
   "metadata": {},
   "outputs": [
    {
     "data": {
      "text/html": [
       "<div>\n",
       "<style scoped>\n",
       "    .dataframe tbody tr th:only-of-type {\n",
       "        vertical-align: middle;\n",
       "    }\n",
       "\n",
       "    .dataframe tbody tr th {\n",
       "        vertical-align: top;\n",
       "    }\n",
       "\n",
       "    .dataframe thead th {\n",
       "        text-align: right;\n",
       "    }\n",
       "</style>\n",
       "<table border=\"1\" class=\"dataframe\">\n",
       "  <thead>\n",
       "    <tr style=\"text-align: right;\">\n",
       "      <th></th>\n",
       "      <th>pickup_datetime</th>\n",
       "      <th>tempm</th>\n",
       "      <th>precipm</th>\n",
       "      <th>precip_type</th>\n",
       "    </tr>\n",
       "  </thead>\n",
       "  <tbody>\n",
       "    <tr>\n",
       "      <td>535</td>\n",
       "      <td>2016-12-17 20:51:00</td>\n",
       "      <td>2.8</td>\n",
       "      <td>NaN</td>\n",
       "      <td>clear</td>\n",
       "    </tr>\n",
       "    <tr>\n",
       "      <td>536</td>\n",
       "      <td>2016-12-17 21:51:00</td>\n",
       "      <td>2.8</td>\n",
       "      <td>NaN</td>\n",
       "      <td>clear</td>\n",
       "    </tr>\n",
       "    <tr>\n",
       "      <td>537</td>\n",
       "      <td>2016-12-17 22:17:00</td>\n",
       "      <td>3.3</td>\n",
       "      <td>NaN</td>\n",
       "      <td>clear</td>\n",
       "    </tr>\n",
       "    <tr>\n",
       "      <td>538</td>\n",
       "      <td>2016-12-17 22:51:00</td>\n",
       "      <td>3.9</td>\n",
       "      <td>NaN</td>\n",
       "      <td>clear</td>\n",
       "    </tr>\n",
       "    <tr>\n",
       "      <td>539</td>\n",
       "      <td>2016-12-17 23:51:00</td>\n",
       "      <td>3.9</td>\n",
       "      <td>NaN</td>\n",
       "      <td>clear</td>\n",
       "    </tr>\n",
       "  </tbody>\n",
       "</table>\n",
       "</div>"
      ],
      "text/plain": [
       "         pickup_datetime  tempm  precipm precip_type\n",
       "535  2016-12-17 20:51:00    2.8      NaN       clear\n",
       "536  2016-12-17 21:51:00    2.8      NaN       clear\n",
       "537  2016-12-17 22:17:00    3.3      NaN       clear\n",
       "538  2016-12-17 22:51:00    3.9      NaN       clear\n",
       "539  2016-12-17 23:51:00    3.9      NaN       clear"
      ]
     },
     "execution_count": 3,
     "metadata": {},
     "output_type": "execute_result"
    }
   ],
   "source": [
    "df_weather.tail()"
   ]
  },
  {
   "cell_type": "code",
   "execution_count": 4,
   "metadata": {},
   "outputs": [],
   "source": [
    "#fill the None entries in precipm with 0\n",
    "\n",
    "df_weather.precipm = df_weather.precipm.fillna(0)"
   ]
  },
  {
   "cell_type": "code",
   "execution_count": 5,
   "metadata": {},
   "outputs": [
    {
     "name": "stdout",
     "output_type": "stream",
     "text": [
      "CPU times: user 3.13 ms, sys: 989 µs, total: 4.11 ms\n",
      "Wall time: 3.27 ms\n"
     ]
    }
   ],
   "source": [
    "%%time\n",
    "df_weather['pickup_datetime'] = pd.to_datetime(df_weather.pickup_datetime)"
   ]
  },
  {
   "cell_type": "markdown",
   "metadata": {},
   "source": [
    "## Read in taxi data"
   ]
  },
  {
   "cell_type": "code",
   "execution_count": 6,
   "metadata": {},
   "outputs": [],
   "source": [
    "#read in the edited taxi data\n",
    "chunklist = []\n",
    "for chunk in pd.read_csv('taxi_edit.csv', chunksize = 100000):\n",
    "    chunklist.append(chunk)"
   ]
  },
  {
   "cell_type": "code",
   "execution_count": 7,
   "metadata": {},
   "outputs": [],
   "source": [
    "df_taxi = pd.concat(chunklist)"
   ]
  },
  {
   "cell_type": "code",
   "execution_count": 8,
   "metadata": {},
   "outputs": [
    {
     "data": {
      "text/html": [
       "<div>\n",
       "<style scoped>\n",
       "    .dataframe tbody tr th:only-of-type {\n",
       "        vertical-align: middle;\n",
       "    }\n",
       "\n",
       "    .dataframe tbody tr th {\n",
       "        vertical-align: top;\n",
       "    }\n",
       "\n",
       "    .dataframe thead th {\n",
       "        text-align: right;\n",
       "    }\n",
       "</style>\n",
       "<table border=\"1\" class=\"dataframe\">\n",
       "  <thead>\n",
       "    <tr style=\"text-align: right;\">\n",
       "      <th></th>\n",
       "      <th>pickup</th>\n",
       "      <th>dropoff</th>\n",
       "      <th>trip_distance</th>\n",
       "      <th>trip_time</th>\n",
       "      <th>speed</th>\n",
       "    </tr>\n",
       "  </thead>\n",
       "  <tbody>\n",
       "    <tr>\n",
       "      <td>1688275</td>\n",
       "      <td>2016-12-17 23:59:58</td>\n",
       "      <td>2016-12-18 00:30:51</td>\n",
       "      <td>4.4</td>\n",
       "      <td>0 days 00:30:53.000000000</td>\n",
       "      <td>8.548300</td>\n",
       "    </tr>\n",
       "    <tr>\n",
       "      <td>1688276</td>\n",
       "      <td>2016-12-17 23:59:58</td>\n",
       "      <td>2016-12-18 00:22:15</td>\n",
       "      <td>10.2</td>\n",
       "      <td>0 days 00:22:17.000000000</td>\n",
       "      <td>27.464473</td>\n",
       "    </tr>\n",
       "    <tr>\n",
       "      <td>1688277</td>\n",
       "      <td>2016-12-17 23:59:58</td>\n",
       "      <td>2016-12-18 00:14:03</td>\n",
       "      <td>1.4</td>\n",
       "      <td>0 days 00:14:05.000000000</td>\n",
       "      <td>5.964497</td>\n",
       "    </tr>\n",
       "    <tr>\n",
       "      <td>1688278</td>\n",
       "      <td>2016-12-17 23:59:59</td>\n",
       "      <td>2016-12-18 00:13:56</td>\n",
       "      <td>2.4</td>\n",
       "      <td>0 days 00:13:57.000000000</td>\n",
       "      <td>10.322581</td>\n",
       "    </tr>\n",
       "    <tr>\n",
       "      <td>1688279</td>\n",
       "      <td>2016-12-17 23:59:59</td>\n",
       "      <td>2016-12-18 00:06:58</td>\n",
       "      <td>1.6</td>\n",
       "      <td>0 days 00:06:59.000000000</td>\n",
       "      <td>13.747017</td>\n",
       "    </tr>\n",
       "  </tbody>\n",
       "</table>\n",
       "</div>"
      ],
      "text/plain": [
       "                      pickup              dropoff  trip_distance  \\\n",
       "1688275  2016-12-17 23:59:58  2016-12-18 00:30:51            4.4   \n",
       "1688276  2016-12-17 23:59:58  2016-12-18 00:22:15           10.2   \n",
       "1688277  2016-12-17 23:59:58  2016-12-18 00:14:03            1.4   \n",
       "1688278  2016-12-17 23:59:59  2016-12-18 00:13:56            2.4   \n",
       "1688279  2016-12-17 23:59:59  2016-12-18 00:06:58            1.6   \n",
       "\n",
       "                         trip_time      speed  \n",
       "1688275  0 days 00:30:53.000000000   8.548300  \n",
       "1688276  0 days 00:22:17.000000000  27.464473  \n",
       "1688277  0 days 00:14:05.000000000   5.964497  \n",
       "1688278  0 days 00:13:57.000000000  10.322581  \n",
       "1688279  0 days 00:06:59.000000000  13.747017  "
      ]
     },
     "execution_count": 8,
     "metadata": {},
     "output_type": "execute_result"
    }
   ],
   "source": [
    "df_taxi.tail()"
   ]
  },
  {
   "cell_type": "code",
   "execution_count": 9,
   "metadata": {},
   "outputs": [
    {
     "name": "stdout",
     "output_type": "stream",
     "text": [
      "CPU times: user 1.78 s, sys: 173 ms, total: 1.95 s\n",
      "Wall time: 1.6 s\n"
     ]
    }
   ],
   "source": [
    "%%time\n",
    "#convert pickup_datetime string to datetime \n",
    "df_taxi['pickup'] = pd.to_datetime(df_taxi['pickup'])\n",
    "df_taxi['dropoff'] = pd.to_datetime(df_taxi['dropoff'])"
   ]
  },
  {
   "cell_type": "code",
   "execution_count": 10,
   "metadata": {},
   "outputs": [
    {
     "name": "stdout",
     "output_type": "stream",
     "text": [
      "<class 'pandas.core.frame.DataFrame'>\n",
      "RangeIndex: 1688280 entries, 0 to 1688279\n",
      "Data columns (total 5 columns):\n",
      "pickup           1688280 non-null datetime64[ns]\n",
      "dropoff          1688280 non-null datetime64[ns]\n",
      "trip_distance    1688280 non-null float64\n",
      "trip_time        1688280 non-null object\n",
      "speed            1684583 non-null float64\n",
      "dtypes: datetime64[ns](2), float64(2), object(1)\n",
      "memory usage: 64.4+ MB\n"
     ]
    }
   ],
   "source": [
    "df_taxi.info()"
   ]
  },
  {
   "cell_type": "code",
   "execution_count": 11,
   "metadata": {},
   "outputs": [],
   "source": [
    "#drop the rows that have None values\n",
    "df_taxi.dropna(axis = 0, inplace = True)"
   ]
  },
  {
   "cell_type": "markdown",
   "metadata": {},
   "source": [
    "## Merge the two dataframes on the nearest pickup datetime."
   ]
  },
  {
   "cell_type": "code",
   "execution_count": 12,
   "metadata": {},
   "outputs": [
    {
     "data": {
      "text/html": [
       "<div>\n",
       "<style scoped>\n",
       "    .dataframe tbody tr th:only-of-type {\n",
       "        vertical-align: middle;\n",
       "    }\n",
       "\n",
       "    .dataframe tbody tr th {\n",
       "        vertical-align: top;\n",
       "    }\n",
       "\n",
       "    .dataframe thead th {\n",
       "        text-align: right;\n",
       "    }\n",
       "</style>\n",
       "<table border=\"1\" class=\"dataframe\">\n",
       "  <thead>\n",
       "    <tr style=\"text-align: right;\">\n",
       "      <th></th>\n",
       "      <th>pickup</th>\n",
       "      <th>dropoff</th>\n",
       "      <th>trip_distance</th>\n",
       "      <th>trip_time</th>\n",
       "      <th>speed</th>\n",
       "    </tr>\n",
       "  </thead>\n",
       "  <tbody>\n",
       "    <tr>\n",
       "      <td>0</td>\n",
       "      <td>2016-02-05 00:00:00</td>\n",
       "      <td>2016-02-05 00:08:02</td>\n",
       "      <td>1.5</td>\n",
       "      <td>0 days 00:08:02.000000000</td>\n",
       "      <td>11.203320</td>\n",
       "    </tr>\n",
       "    <tr>\n",
       "      <td>1</td>\n",
       "      <td>2016-02-05 00:00:01</td>\n",
       "      <td>2016-02-05 00:14:36</td>\n",
       "      <td>3.0</td>\n",
       "      <td>0 days 00:14:35.000000000</td>\n",
       "      <td>12.342857</td>\n",
       "    </tr>\n",
       "    <tr>\n",
       "      <td>2</td>\n",
       "      <td>2016-02-05 00:00:02</td>\n",
       "      <td>2016-02-05 00:21:48</td>\n",
       "      <td>4.0</td>\n",
       "      <td>0 days 00:21:46.000000000</td>\n",
       "      <td>11.026034</td>\n",
       "    </tr>\n",
       "    <tr>\n",
       "      <td>3</td>\n",
       "      <td>2016-02-05 00:00:02</td>\n",
       "      <td>2016-02-05 00:02:20</td>\n",
       "      <td>0.9</td>\n",
       "      <td>0 days 00:02:18.000000000</td>\n",
       "      <td>23.478261</td>\n",
       "    </tr>\n",
       "    <tr>\n",
       "      <td>4</td>\n",
       "      <td>2016-02-05 00:00:03</td>\n",
       "      <td>2016-02-05 00:05:17</td>\n",
       "      <td>0.6</td>\n",
       "      <td>0 days 00:05:14.000000000</td>\n",
       "      <td>6.878981</td>\n",
       "    </tr>\n",
       "  </tbody>\n",
       "</table>\n",
       "</div>"
      ],
      "text/plain": [
       "               pickup             dropoff  trip_distance  \\\n",
       "0 2016-02-05 00:00:00 2016-02-05 00:08:02            1.5   \n",
       "1 2016-02-05 00:00:01 2016-02-05 00:14:36            3.0   \n",
       "2 2016-02-05 00:00:02 2016-02-05 00:21:48            4.0   \n",
       "3 2016-02-05 00:00:02 2016-02-05 00:02:20            0.9   \n",
       "4 2016-02-05 00:00:03 2016-02-05 00:05:17            0.6   \n",
       "\n",
       "                   trip_time      speed  \n",
       "0  0 days 00:08:02.000000000  11.203320  \n",
       "1  0 days 00:14:35.000000000  12.342857  \n",
       "2  0 days 00:21:46.000000000  11.026034  \n",
       "3  0 days 00:02:18.000000000  23.478261  \n",
       "4  0 days 00:05:14.000000000   6.878981  "
      ]
     },
     "execution_count": 12,
     "metadata": {},
     "output_type": "execute_result"
    }
   ],
   "source": [
    "df_taxi.head()"
   ]
  },
  {
   "cell_type": "code",
   "execution_count": 13,
   "metadata": {},
   "outputs": [
    {
     "data": {
      "text/html": [
       "<div>\n",
       "<style scoped>\n",
       "    .dataframe tbody tr th:only-of-type {\n",
       "        vertical-align: middle;\n",
       "    }\n",
       "\n",
       "    .dataframe tbody tr th {\n",
       "        vertical-align: top;\n",
       "    }\n",
       "\n",
       "    .dataframe thead th {\n",
       "        text-align: right;\n",
       "    }\n",
       "</style>\n",
       "<table border=\"1\" class=\"dataframe\">\n",
       "  <thead>\n",
       "    <tr style=\"text-align: right;\">\n",
       "      <th></th>\n",
       "      <th>pickup_datetime</th>\n",
       "      <th>tempm</th>\n",
       "      <th>precipm</th>\n",
       "      <th>precip_type</th>\n",
       "    </tr>\n",
       "  </thead>\n",
       "  <tbody>\n",
       "    <tr>\n",
       "      <td>0</td>\n",
       "      <td>2016-02-04 23:51:00</td>\n",
       "      <td>6.7</td>\n",
       "      <td>0.0</td>\n",
       "      <td>clear</td>\n",
       "    </tr>\n",
       "    <tr>\n",
       "      <td>1</td>\n",
       "      <td>2016-02-05 00:51:00</td>\n",
       "      <td>5.0</td>\n",
       "      <td>0.3</td>\n",
       "      <td>clear</td>\n",
       "    </tr>\n",
       "    <tr>\n",
       "      <td>2</td>\n",
       "      <td>2016-02-05 01:51:00</td>\n",
       "      <td>4.4</td>\n",
       "      <td>0.0</td>\n",
       "      <td>rain</td>\n",
       "    </tr>\n",
       "    <tr>\n",
       "      <td>3</td>\n",
       "      <td>2016-02-05 02:51:00</td>\n",
       "      <td>2.8</td>\n",
       "      <td>0.5</td>\n",
       "      <td>snow</td>\n",
       "    </tr>\n",
       "    <tr>\n",
       "      <td>4</td>\n",
       "      <td>2016-02-05 03:40:00</td>\n",
       "      <td>1.7</td>\n",
       "      <td>1.0</td>\n",
       "      <td>snow</td>\n",
       "    </tr>\n",
       "  </tbody>\n",
       "</table>\n",
       "</div>"
      ],
      "text/plain": [
       "      pickup_datetime  tempm  precipm precip_type\n",
       "0 2016-02-04 23:51:00    6.7      0.0       clear\n",
       "1 2016-02-05 00:51:00    5.0      0.3       clear\n",
       "2 2016-02-05 01:51:00    4.4      0.0        rain\n",
       "3 2016-02-05 02:51:00    2.8      0.5        snow\n",
       "4 2016-02-05 03:40:00    1.7      1.0        snow"
      ]
     },
     "execution_count": 13,
     "metadata": {},
     "output_type": "execute_result"
    }
   ],
   "source": [
    "df_weather.head()"
   ]
  },
  {
   "cell_type": "code",
   "execution_count": 14,
   "metadata": {},
   "outputs": [],
   "source": [
    "df_weather.rename(columns = {'pickup_datetime':'pickup'}, inplace = True)"
   ]
  },
  {
   "cell_type": "code",
   "execution_count": 15,
   "metadata": {},
   "outputs": [
    {
     "data": {
      "text/html": [
       "<div>\n",
       "<style scoped>\n",
       "    .dataframe tbody tr th:only-of-type {\n",
       "        vertical-align: middle;\n",
       "    }\n",
       "\n",
       "    .dataframe tbody tr th {\n",
       "        vertical-align: top;\n",
       "    }\n",
       "\n",
       "    .dataframe thead th {\n",
       "        text-align: right;\n",
       "    }\n",
       "</style>\n",
       "<table border=\"1\" class=\"dataframe\">\n",
       "  <thead>\n",
       "    <tr style=\"text-align: right;\">\n",
       "      <th></th>\n",
       "      <th>pickup</th>\n",
       "      <th>tempm</th>\n",
       "      <th>precipm</th>\n",
       "      <th>precip_type</th>\n",
       "    </tr>\n",
       "  </thead>\n",
       "  <tbody>\n",
       "    <tr>\n",
       "      <td>0</td>\n",
       "      <td>2016-02-04 23:51:00</td>\n",
       "      <td>6.7</td>\n",
       "      <td>0.0</td>\n",
       "      <td>clear</td>\n",
       "    </tr>\n",
       "    <tr>\n",
       "      <td>1</td>\n",
       "      <td>2016-02-05 00:51:00</td>\n",
       "      <td>5.0</td>\n",
       "      <td>0.3</td>\n",
       "      <td>clear</td>\n",
       "    </tr>\n",
       "    <tr>\n",
       "      <td>2</td>\n",
       "      <td>2016-02-05 01:51:00</td>\n",
       "      <td>4.4</td>\n",
       "      <td>0.0</td>\n",
       "      <td>rain</td>\n",
       "    </tr>\n",
       "    <tr>\n",
       "      <td>3</td>\n",
       "      <td>2016-02-05 02:51:00</td>\n",
       "      <td>2.8</td>\n",
       "      <td>0.5</td>\n",
       "      <td>snow</td>\n",
       "    </tr>\n",
       "    <tr>\n",
       "      <td>4</td>\n",
       "      <td>2016-02-05 03:40:00</td>\n",
       "      <td>1.7</td>\n",
       "      <td>1.0</td>\n",
       "      <td>snow</td>\n",
       "    </tr>\n",
       "  </tbody>\n",
       "</table>\n",
       "</div>"
      ],
      "text/plain": [
       "               pickup  tempm  precipm precip_type\n",
       "0 2016-02-04 23:51:00    6.7      0.0       clear\n",
       "1 2016-02-05 00:51:00    5.0      0.3       clear\n",
       "2 2016-02-05 01:51:00    4.4      0.0        rain\n",
       "3 2016-02-05 02:51:00    2.8      0.5        snow\n",
       "4 2016-02-05 03:40:00    1.7      1.0        snow"
      ]
     },
     "execution_count": 15,
     "metadata": {},
     "output_type": "execute_result"
    }
   ],
   "source": [
    "df_weather.head()"
   ]
  },
  {
   "cell_type": "code",
   "execution_count": 16,
   "metadata": {},
   "outputs": [
    {
     "name": "stdout",
     "output_type": "stream",
     "text": [
      "CPU times: user 307 ms, sys: 76.1 ms, total: 383 ms\n",
      "Wall time: 415 ms\n"
     ]
    }
   ],
   "source": [
    "%%time \n",
    "df_merged = pd.merge_asof(df_taxi, df_weather, on = 'pickup', direction = 'nearest')"
   ]
  },
  {
   "cell_type": "code",
   "execution_count": 17,
   "metadata": {},
   "outputs": [
    {
     "data": {
      "text/html": [
       "<div>\n",
       "<style scoped>\n",
       "    .dataframe tbody tr th:only-of-type {\n",
       "        vertical-align: middle;\n",
       "    }\n",
       "\n",
       "    .dataframe tbody tr th {\n",
       "        vertical-align: top;\n",
       "    }\n",
       "\n",
       "    .dataframe thead th {\n",
       "        text-align: right;\n",
       "    }\n",
       "</style>\n",
       "<table border=\"1\" class=\"dataframe\">\n",
       "  <thead>\n",
       "    <tr style=\"text-align: right;\">\n",
       "      <th></th>\n",
       "      <th>pickup</th>\n",
       "      <th>dropoff</th>\n",
       "      <th>trip_distance</th>\n",
       "      <th>trip_time</th>\n",
       "      <th>speed</th>\n",
       "      <th>tempm</th>\n",
       "      <th>precipm</th>\n",
       "      <th>precip_type</th>\n",
       "    </tr>\n",
       "  </thead>\n",
       "  <tbody>\n",
       "    <tr>\n",
       "      <td>0</td>\n",
       "      <td>2016-02-05 00:00:00</td>\n",
       "      <td>2016-02-05 00:08:02</td>\n",
       "      <td>1.5</td>\n",
       "      <td>0 days 00:08:02.000000000</td>\n",
       "      <td>11.203320</td>\n",
       "      <td>6.7</td>\n",
       "      <td>0.0</td>\n",
       "      <td>clear</td>\n",
       "    </tr>\n",
       "    <tr>\n",
       "      <td>1</td>\n",
       "      <td>2016-02-05 00:00:01</td>\n",
       "      <td>2016-02-05 00:14:36</td>\n",
       "      <td>3.0</td>\n",
       "      <td>0 days 00:14:35.000000000</td>\n",
       "      <td>12.342857</td>\n",
       "      <td>6.7</td>\n",
       "      <td>0.0</td>\n",
       "      <td>clear</td>\n",
       "    </tr>\n",
       "    <tr>\n",
       "      <td>2</td>\n",
       "      <td>2016-02-05 00:00:02</td>\n",
       "      <td>2016-02-05 00:21:48</td>\n",
       "      <td>4.0</td>\n",
       "      <td>0 days 00:21:46.000000000</td>\n",
       "      <td>11.026034</td>\n",
       "      <td>6.7</td>\n",
       "      <td>0.0</td>\n",
       "      <td>clear</td>\n",
       "    </tr>\n",
       "    <tr>\n",
       "      <td>3</td>\n",
       "      <td>2016-02-05 00:00:02</td>\n",
       "      <td>2016-02-05 00:02:20</td>\n",
       "      <td>0.9</td>\n",
       "      <td>0 days 00:02:18.000000000</td>\n",
       "      <td>23.478261</td>\n",
       "      <td>6.7</td>\n",
       "      <td>0.0</td>\n",
       "      <td>clear</td>\n",
       "    </tr>\n",
       "    <tr>\n",
       "      <td>4</td>\n",
       "      <td>2016-02-05 00:00:03</td>\n",
       "      <td>2016-02-05 00:05:17</td>\n",
       "      <td>0.6</td>\n",
       "      <td>0 days 00:05:14.000000000</td>\n",
       "      <td>6.878981</td>\n",
       "      <td>6.7</td>\n",
       "      <td>0.0</td>\n",
       "      <td>clear</td>\n",
       "    </tr>\n",
       "  </tbody>\n",
       "</table>\n",
       "</div>"
      ],
      "text/plain": [
       "               pickup             dropoff  trip_distance  \\\n",
       "0 2016-02-05 00:00:00 2016-02-05 00:08:02            1.5   \n",
       "1 2016-02-05 00:00:01 2016-02-05 00:14:36            3.0   \n",
       "2 2016-02-05 00:00:02 2016-02-05 00:21:48            4.0   \n",
       "3 2016-02-05 00:00:02 2016-02-05 00:02:20            0.9   \n",
       "4 2016-02-05 00:00:03 2016-02-05 00:05:17            0.6   \n",
       "\n",
       "                   trip_time      speed  tempm  precipm precip_type  \n",
       "0  0 days 00:08:02.000000000  11.203320    6.7      0.0       clear  \n",
       "1  0 days 00:14:35.000000000  12.342857    6.7      0.0       clear  \n",
       "2  0 days 00:21:46.000000000  11.026034    6.7      0.0       clear  \n",
       "3  0 days 00:02:18.000000000  23.478261    6.7      0.0       clear  \n",
       "4  0 days 00:05:14.000000000   6.878981    6.7      0.0       clear  "
      ]
     },
     "execution_count": 17,
     "metadata": {},
     "output_type": "execute_result"
    }
   ],
   "source": [
    "df_merged.head()"
   ]
  },
  {
   "cell_type": "code",
   "execution_count": 18,
   "metadata": {},
   "outputs": [],
   "source": [
    "df_merged.to_csv('data_merged.csv', index = False)"
   ]
  },
  {
   "cell_type": "code",
   "execution_count": null,
   "metadata": {},
   "outputs": [],
   "source": []
  },
  {
   "cell_type": "code",
   "execution_count": null,
   "metadata": {},
   "outputs": [],
   "source": []
  },
  {
   "cell_type": "code",
   "execution_count": null,
   "metadata": {},
   "outputs": [],
   "source": []
  }
 ],
 "metadata": {
  "kernelspec": {
   "display_name": "Python 3",
   "language": "python",
   "name": "python3"
  },
  "language_info": {
   "codemirror_mode": {
    "name": "ipython",
    "version": 3
   },
   "file_extension": ".py",
   "mimetype": "text/x-python",
   "name": "python",
   "nbconvert_exporter": "python",
   "pygments_lexer": "ipython3",
   "version": "3.7.3"
  }
 },
 "nbformat": 4,
 "nbformat_minor": 2
}
