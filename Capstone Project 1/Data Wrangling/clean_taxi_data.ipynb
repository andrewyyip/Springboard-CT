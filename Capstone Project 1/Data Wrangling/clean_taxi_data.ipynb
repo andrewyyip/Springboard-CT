{
 "cells": [
  {
   "cell_type": "code",
   "execution_count": 1,
   "metadata": {},
   "outputs": [],
   "source": [
    "import pandas as pd\n",
    "import numpy as np\n",
    "import matplotlib.pyplot as plt\n",
    "from datetime import datetime"
   ]
  },
  {
   "cell_type": "code",
   "execution_count": 2,
   "metadata": {},
   "outputs": [
    {
     "name": "stdout",
     "output_type": "stream",
     "text": [
      "CPU times: user 4min 7s, sys: 49 s, total: 4min 56s\n",
      "Wall time: 5min 6s\n"
     ]
    }
   ],
   "source": [
    "%%time\n",
    "#read the original taxi trip data csv file into chunklist\n",
    "chunklist = []\n",
    "for chunk in pd.read_csv('2016_Yellow_Taxi_Trip_Data.csv', chunksize=100000):\n",
    "     chunklist.append(chunk)"
   ]
  },
  {
   "cell_type": "code",
   "execution_count": 3,
   "metadata": {},
   "outputs": [
    {
     "name": "stdout",
     "output_type": "stream",
     "text": [
      "CPU times: user 49.2 s, sys: 3min 3s, total: 3min 53s\n",
      "Wall time: 7min 59s\n"
     ]
    }
   ],
   "source": [
    "%%time\n",
    "#combine the chunks into a dataframe\n",
    "df_taxi = pd.concat(chunklist)"
   ]
  },
  {
   "cell_type": "code",
   "execution_count": 4,
   "metadata": {},
   "outputs": [
    {
     "data": {
      "text/html": [
       "<div>\n",
       "<style scoped>\n",
       "    .dataframe tbody tr th:only-of-type {\n",
       "        vertical-align: middle;\n",
       "    }\n",
       "\n",
       "    .dataframe tbody tr th {\n",
       "        vertical-align: top;\n",
       "    }\n",
       "\n",
       "    .dataframe thead th {\n",
       "        text-align: right;\n",
       "    }\n",
       "</style>\n",
       "<table border=\"1\" class=\"dataframe\">\n",
       "  <thead>\n",
       "    <tr style=\"text-align: right;\">\n",
       "      <th></th>\n",
       "      <th>VendorID</th>\n",
       "      <th>tpep_pickup_datetime</th>\n",
       "      <th>tpep_dropoff_datetime</th>\n",
       "      <th>passenger_count</th>\n",
       "      <th>trip_distance</th>\n",
       "      <th>pickup_longitude</th>\n",
       "      <th>pickup_latitude</th>\n",
       "      <th>RatecodeID</th>\n",
       "      <th>store_and_fwd_flag</th>\n",
       "      <th>dropoff_longitude</th>\n",
       "      <th>...</th>\n",
       "      <th>payment_type</th>\n",
       "      <th>fare_amount</th>\n",
       "      <th>extra</th>\n",
       "      <th>mta_tax</th>\n",
       "      <th>tip_amount</th>\n",
       "      <th>tolls_amount</th>\n",
       "      <th>improvement_surcharge</th>\n",
       "      <th>total_amount</th>\n",
       "      <th>PULocationID</th>\n",
       "      <th>DOLocationID</th>\n",
       "    </tr>\n",
       "  </thead>\n",
       "  <tbody>\n",
       "    <tr>\n",
       "      <td>0</td>\n",
       "      <td>1</td>\n",
       "      <td>02/22/2016 06:14:21 PM</td>\n",
       "      <td>02/22/2016 06:27:21 PM</td>\n",
       "      <td>1</td>\n",
       "      <td>4.4</td>\n",
       "      <td>-74.012749</td>\n",
       "      <td>40.702610</td>\n",
       "      <td>1</td>\n",
       "      <td>N</td>\n",
       "      <td>-73.987106</td>\n",
       "      <td>...</td>\n",
       "      <td>1</td>\n",
       "      <td>15.0</td>\n",
       "      <td>1.0</td>\n",
       "      <td>0.5</td>\n",
       "      <td>1.00</td>\n",
       "      <td>0.0</td>\n",
       "      <td>0.3</td>\n",
       "      <td>17.80</td>\n",
       "      <td>NaN</td>\n",
       "      <td>NaN</td>\n",
       "    </tr>\n",
       "    <tr>\n",
       "      <td>1</td>\n",
       "      <td>1</td>\n",
       "      <td>02/10/2016 05:51:14 PM</td>\n",
       "      <td>02/10/2016 05:58:34 PM</td>\n",
       "      <td>1</td>\n",
       "      <td>1.1</td>\n",
       "      <td>-73.986183</td>\n",
       "      <td>40.757881</td>\n",
       "      <td>1</td>\n",
       "      <td>N</td>\n",
       "      <td>-73.981720</td>\n",
       "      <td>...</td>\n",
       "      <td>1</td>\n",
       "      <td>6.5</td>\n",
       "      <td>1.0</td>\n",
       "      <td>0.5</td>\n",
       "      <td>1.65</td>\n",
       "      <td>0.0</td>\n",
       "      <td>0.3</td>\n",
       "      <td>9.95</td>\n",
       "      <td>NaN</td>\n",
       "      <td>NaN</td>\n",
       "    </tr>\n",
       "    <tr>\n",
       "      <td>2</td>\n",
       "      <td>1</td>\n",
       "      <td>02/13/2016 02:56:14 PM</td>\n",
       "      <td>02/13/2016 03:13:35 PM</td>\n",
       "      <td>1</td>\n",
       "      <td>6.6</td>\n",
       "      <td>-73.981140</td>\n",
       "      <td>40.782425</td>\n",
       "      <td>1</td>\n",
       "      <td>N</td>\n",
       "      <td>-73.930641</td>\n",
       "      <td>...</td>\n",
       "      <td>2</td>\n",
       "      <td>22.0</td>\n",
       "      <td>0.0</td>\n",
       "      <td>0.5</td>\n",
       "      <td>0.00</td>\n",
       "      <td>0.0</td>\n",
       "      <td>0.3</td>\n",
       "      <td>22.80</td>\n",
       "      <td>NaN</td>\n",
       "      <td>NaN</td>\n",
       "    </tr>\n",
       "    <tr>\n",
       "      <td>3</td>\n",
       "      <td>1</td>\n",
       "      <td>02/15/2016 01:29:39 PM</td>\n",
       "      <td>02/15/2016 01:45:53 PM</td>\n",
       "      <td>2</td>\n",
       "      <td>2.2</td>\n",
       "      <td>-73.998619</td>\n",
       "      <td>40.764027</td>\n",
       "      <td>1</td>\n",
       "      <td>N</td>\n",
       "      <td>-73.981750</td>\n",
       "      <td>...</td>\n",
       "      <td>2</td>\n",
       "      <td>12.0</td>\n",
       "      <td>0.0</td>\n",
       "      <td>0.5</td>\n",
       "      <td>0.00</td>\n",
       "      <td>0.0</td>\n",
       "      <td>0.3</td>\n",
       "      <td>12.80</td>\n",
       "      <td>NaN</td>\n",
       "      <td>NaN</td>\n",
       "    </tr>\n",
       "    <tr>\n",
       "      <td>4</td>\n",
       "      <td>1</td>\n",
       "      <td>02/27/2016 11:59:52 PM</td>\n",
       "      <td>02/28/2016 12:04:18 AM</td>\n",
       "      <td>1</td>\n",
       "      <td>1.2</td>\n",
       "      <td>-73.959244</td>\n",
       "      <td>40.763435</td>\n",
       "      <td>1</td>\n",
       "      <td>N</td>\n",
       "      <td>-73.946564</td>\n",
       "      <td>...</td>\n",
       "      <td>2</td>\n",
       "      <td>6.0</td>\n",
       "      <td>0.5</td>\n",
       "      <td>0.5</td>\n",
       "      <td>0.00</td>\n",
       "      <td>0.0</td>\n",
       "      <td>0.3</td>\n",
       "      <td>7.30</td>\n",
       "      <td>NaN</td>\n",
       "      <td>NaN</td>\n",
       "    </tr>\n",
       "  </tbody>\n",
       "</table>\n",
       "<p>5 rows × 21 columns</p>\n",
       "</div>"
      ],
      "text/plain": [
       "   VendorID    tpep_pickup_datetime   tpep_dropoff_datetime  passenger_count  \\\n",
       "0         1  02/22/2016 06:14:21 PM  02/22/2016 06:27:21 PM                1   \n",
       "1         1  02/10/2016 05:51:14 PM  02/10/2016 05:58:34 PM                1   \n",
       "2         1  02/13/2016 02:56:14 PM  02/13/2016 03:13:35 PM                1   \n",
       "3         1  02/15/2016 01:29:39 PM  02/15/2016 01:45:53 PM                2   \n",
       "4         1  02/27/2016 11:59:52 PM  02/28/2016 12:04:18 AM                1   \n",
       "\n",
       "   trip_distance  pickup_longitude  pickup_latitude  RatecodeID  \\\n",
       "0            4.4        -74.012749        40.702610           1   \n",
       "1            1.1        -73.986183        40.757881           1   \n",
       "2            6.6        -73.981140        40.782425           1   \n",
       "3            2.2        -73.998619        40.764027           1   \n",
       "4            1.2        -73.959244        40.763435           1   \n",
       "\n",
       "  store_and_fwd_flag  dropoff_longitude  ...  payment_type  fare_amount  \\\n",
       "0                  N         -73.987106  ...             1         15.0   \n",
       "1                  N         -73.981720  ...             1          6.5   \n",
       "2                  N         -73.930641  ...             2         22.0   \n",
       "3                  N         -73.981750  ...             2         12.0   \n",
       "4                  N         -73.946564  ...             2          6.0   \n",
       "\n",
       "   extra  mta_tax  tip_amount  tolls_amount  improvement_surcharge  \\\n",
       "0    1.0      0.5        1.00           0.0                    0.3   \n",
       "1    1.0      0.5        1.65           0.0                    0.3   \n",
       "2    0.0      0.5        0.00           0.0                    0.3   \n",
       "3    0.0      0.5        0.00           0.0                    0.3   \n",
       "4    0.5      0.5        0.00           0.0                    0.3   \n",
       "\n",
       "   total_amount  PULocationID  DOLocationID  \n",
       "0         17.80           NaN           NaN  \n",
       "1          9.95           NaN           NaN  \n",
       "2         22.80           NaN           NaN  \n",
       "3         12.80           NaN           NaN  \n",
       "4          7.30           NaN           NaN  \n",
       "\n",
       "[5 rows x 21 columns]"
      ]
     },
     "execution_count": 4,
     "metadata": {},
     "output_type": "execute_result"
    }
   ],
   "source": [
    "df_taxi.head()"
   ]
  },
  {
   "cell_type": "code",
   "execution_count": 5,
   "metadata": {},
   "outputs": [
    {
     "data": {
      "text/plain": [
       "Index(['VendorID', 'tpep_pickup_datetime', 'tpep_dropoff_datetime',\n",
       "       'passenger_count', 'trip_distance', 'pickup_longitude',\n",
       "       'pickup_latitude', 'RatecodeID', 'store_and_fwd_flag',\n",
       "       'dropoff_longitude', 'dropoff_latitude', 'payment_type', 'fare_amount',\n",
       "       'extra', 'mta_tax', 'tip_amount', 'tolls_amount',\n",
       "       'improvement_surcharge', 'total_amount', 'PULocationID',\n",
       "       'DOLocationID'],\n",
       "      dtype='object')"
      ]
     },
     "execution_count": 5,
     "metadata": {},
     "output_type": "execute_result"
    }
   ],
   "source": [
    "df_taxi.columns"
   ]
  },
  {
   "cell_type": "code",
   "execution_count": 6,
   "metadata": {},
   "outputs": [],
   "source": [
    "#drop the columns that we don't need to keep\n",
    "df_taxi = df_taxi.drop(columns=['VendorID', 'passenger_count', 'RatecodeID', 'store_and_fwd_flag', 'payment_type',\n",
    "                               'fare_amount', 'extra', 'mta_tax', 'tip_amount', 'tolls_amount', \n",
    "                                'improvement_surcharge', 'total_amount', 'pickup_longitude', 'pickup_latitude', \n",
    "                                'dropoff_longitude', 'dropoff_latitude'])"
   ]
  },
  {
   "cell_type": "code",
   "execution_count": 7,
   "metadata": {},
   "outputs": [
    {
     "data": {
      "text/html": [
       "<div>\n",
       "<style scoped>\n",
       "    .dataframe tbody tr th:only-of-type {\n",
       "        vertical-align: middle;\n",
       "    }\n",
       "\n",
       "    .dataframe tbody tr th {\n",
       "        vertical-align: top;\n",
       "    }\n",
       "\n",
       "    .dataframe thead th {\n",
       "        text-align: right;\n",
       "    }\n",
       "</style>\n",
       "<table border=\"1\" class=\"dataframe\">\n",
       "  <thead>\n",
       "    <tr style=\"text-align: right;\">\n",
       "      <th></th>\n",
       "      <th>tpep_pickup_datetime</th>\n",
       "      <th>tpep_dropoff_datetime</th>\n",
       "      <th>trip_distance</th>\n",
       "      <th>PULocationID</th>\n",
       "      <th>DOLocationID</th>\n",
       "    </tr>\n",
       "  </thead>\n",
       "  <tbody>\n",
       "    <tr>\n",
       "      <td>0</td>\n",
       "      <td>02/22/2016 06:14:21 PM</td>\n",
       "      <td>02/22/2016 06:27:21 PM</td>\n",
       "      <td>4.4</td>\n",
       "      <td>NaN</td>\n",
       "      <td>NaN</td>\n",
       "    </tr>\n",
       "    <tr>\n",
       "      <td>1</td>\n",
       "      <td>02/10/2016 05:51:14 PM</td>\n",
       "      <td>02/10/2016 05:58:34 PM</td>\n",
       "      <td>1.1</td>\n",
       "      <td>NaN</td>\n",
       "      <td>NaN</td>\n",
       "    </tr>\n",
       "    <tr>\n",
       "      <td>2</td>\n",
       "      <td>02/13/2016 02:56:14 PM</td>\n",
       "      <td>02/13/2016 03:13:35 PM</td>\n",
       "      <td>6.6</td>\n",
       "      <td>NaN</td>\n",
       "      <td>NaN</td>\n",
       "    </tr>\n",
       "    <tr>\n",
       "      <td>3</td>\n",
       "      <td>02/15/2016 01:29:39 PM</td>\n",
       "      <td>02/15/2016 01:45:53 PM</td>\n",
       "      <td>2.2</td>\n",
       "      <td>NaN</td>\n",
       "      <td>NaN</td>\n",
       "    </tr>\n",
       "    <tr>\n",
       "      <td>4</td>\n",
       "      <td>02/27/2016 11:59:52 PM</td>\n",
       "      <td>02/28/2016 12:04:18 AM</td>\n",
       "      <td>1.2</td>\n",
       "      <td>NaN</td>\n",
       "      <td>NaN</td>\n",
       "    </tr>\n",
       "  </tbody>\n",
       "</table>\n",
       "</div>"
      ],
      "text/plain": [
       "     tpep_pickup_datetime   tpep_dropoff_datetime  trip_distance  \\\n",
       "0  02/22/2016 06:14:21 PM  02/22/2016 06:27:21 PM            4.4   \n",
       "1  02/10/2016 05:51:14 PM  02/10/2016 05:58:34 PM            1.1   \n",
       "2  02/13/2016 02:56:14 PM  02/13/2016 03:13:35 PM            6.6   \n",
       "3  02/15/2016 01:29:39 PM  02/15/2016 01:45:53 PM            2.2   \n",
       "4  02/27/2016 11:59:52 PM  02/28/2016 12:04:18 AM            1.2   \n",
       "\n",
       "   PULocationID  DOLocationID  \n",
       "0           NaN           NaN  \n",
       "1           NaN           NaN  \n",
       "2           NaN           NaN  \n",
       "3           NaN           NaN  \n",
       "4           NaN           NaN  "
      ]
     },
     "execution_count": 7,
     "metadata": {},
     "output_type": "execute_result"
    }
   ],
   "source": [
    "df_taxi.head()"
   ]
  },
  {
   "cell_type": "code",
   "execution_count": 8,
   "metadata": {},
   "outputs": [
    {
     "name": "stdout",
     "output_type": "stream",
     "text": [
      "CPU times: user 4h 43min 27s, sys: 1min 22s, total: 4h 44min 50s\n",
      "Wall time: 4h 46min 23s\n"
     ]
    }
   ],
   "source": [
    "%%time\n",
    "#create a list of the differences between dropoff and pickup datetimes\n",
    "#converts datetime string to datetime \n",
    "trip_times = pd.to_datetime(df_taxi['tpep_dropoff_datetime']) - pd.to_datetime(df_taxi['tpep_pickup_datetime'])"
   ]
  },
  {
   "cell_type": "code",
   "execution_count": 9,
   "metadata": {},
   "outputs": [
    {
     "data": {
      "text/plain": [
       "0   00:13:00\n",
       "1   00:07:20\n",
       "2   00:17:21\n",
       "3   00:16:14\n",
       "4   00:04:26\n",
       "dtype: timedelta64[ns]"
      ]
     },
     "execution_count": 9,
     "metadata": {},
     "output_type": "execute_result"
    }
   ],
   "source": [
    "#check the list\n",
    "trip_times[0:5]"
   ]
  },
  {
   "cell_type": "code",
   "execution_count": 10,
   "metadata": {},
   "outputs": [
    {
     "name": "stderr",
     "output_type": "stream",
     "text": [
      "/Applications/anaconda3/lib/python3.7/site-packages/ipykernel_launcher.py:5: RuntimeWarning: invalid value encountered in double_scalars\n",
      "  \"\"\"\n",
      "/Applications/anaconda3/lib/python3.7/site-packages/ipykernel_launcher.py:5: RuntimeWarning: divide by zero encountered in double_scalars\n",
      "  \"\"\"\n"
     ]
    }
   ],
   "source": [
    "#create a list of the speed\n",
    "#use trip_distance / (triptime in seconds / 3600)\n",
    "speed_list = []\n",
    "for i in range(len(trip_times)):\n",
    "    speed_list.append(df_taxi.loc[i,'trip_distance'] / (trip_times[i].total_seconds()/3600))\n"
   ]
  },
  {
   "cell_type": "code",
   "execution_count": 11,
   "metadata": {},
   "outputs": [
    {
     "data": {
      "text/plain": [
       "[20.30769230769231,\n",
       " 9.000000000000002,\n",
       " 22.824207492795388,\n",
       " 8.131416837782341,\n",
       " 16.240601503759397]"
      ]
     },
     "execution_count": 11,
     "metadata": {},
     "output_type": "execute_result"
    }
   ],
   "source": [
    "speed_list[0:5]"
   ]
  },
  {
   "cell_type": "code",
   "execution_count": 12,
   "metadata": {},
   "outputs": [
    {
     "name": "stdout",
     "output_type": "stream",
     "text": [
      "CPU times: user 12 s, sys: 17.9 s, total: 29.9 s\n",
      "Wall time: 36.8 s\n"
     ]
    }
   ],
   "source": [
    "%%time\n",
    "#create speed column in df_taxi dataframe\n",
    "df_taxi['speed'] = speed_list"
   ]
  },
  {
   "cell_type": "code",
   "execution_count": 13,
   "metadata": {},
   "outputs": [
    {
     "data": {
      "text/html": [
       "<div>\n",
       "<style scoped>\n",
       "    .dataframe tbody tr th:only-of-type {\n",
       "        vertical-align: middle;\n",
       "    }\n",
       "\n",
       "    .dataframe tbody tr th {\n",
       "        vertical-align: top;\n",
       "    }\n",
       "\n",
       "    .dataframe thead th {\n",
       "        text-align: right;\n",
       "    }\n",
       "</style>\n",
       "<table border=\"1\" class=\"dataframe\">\n",
       "  <thead>\n",
       "    <tr style=\"text-align: right;\">\n",
       "      <th></th>\n",
       "      <th>tpep_pickup_datetime</th>\n",
       "      <th>tpep_dropoff_datetime</th>\n",
       "      <th>trip_distance</th>\n",
       "      <th>PULocationID</th>\n",
       "      <th>DOLocationID</th>\n",
       "      <th>speed</th>\n",
       "    </tr>\n",
       "  </thead>\n",
       "  <tbody>\n",
       "    <tr>\n",
       "      <td>0</td>\n",
       "      <td>02/22/2016 06:14:21 PM</td>\n",
       "      <td>02/22/2016 06:27:21 PM</td>\n",
       "      <td>4.4</td>\n",
       "      <td>NaN</td>\n",
       "      <td>NaN</td>\n",
       "      <td>20.307692</td>\n",
       "    </tr>\n",
       "    <tr>\n",
       "      <td>1</td>\n",
       "      <td>02/10/2016 05:51:14 PM</td>\n",
       "      <td>02/10/2016 05:58:34 PM</td>\n",
       "      <td>1.1</td>\n",
       "      <td>NaN</td>\n",
       "      <td>NaN</td>\n",
       "      <td>9.000000</td>\n",
       "    </tr>\n",
       "    <tr>\n",
       "      <td>2</td>\n",
       "      <td>02/13/2016 02:56:14 PM</td>\n",
       "      <td>02/13/2016 03:13:35 PM</td>\n",
       "      <td>6.6</td>\n",
       "      <td>NaN</td>\n",
       "      <td>NaN</td>\n",
       "      <td>22.824207</td>\n",
       "    </tr>\n",
       "    <tr>\n",
       "      <td>3</td>\n",
       "      <td>02/15/2016 01:29:39 PM</td>\n",
       "      <td>02/15/2016 01:45:53 PM</td>\n",
       "      <td>2.2</td>\n",
       "      <td>NaN</td>\n",
       "      <td>NaN</td>\n",
       "      <td>8.131417</td>\n",
       "    </tr>\n",
       "    <tr>\n",
       "      <td>4</td>\n",
       "      <td>02/27/2016 11:59:52 PM</td>\n",
       "      <td>02/28/2016 12:04:18 AM</td>\n",
       "      <td>1.2</td>\n",
       "      <td>NaN</td>\n",
       "      <td>NaN</td>\n",
       "      <td>16.240602</td>\n",
       "    </tr>\n",
       "  </tbody>\n",
       "</table>\n",
       "</div>"
      ],
      "text/plain": [
       "     tpep_pickup_datetime   tpep_dropoff_datetime  trip_distance  \\\n",
       "0  02/22/2016 06:14:21 PM  02/22/2016 06:27:21 PM            4.4   \n",
       "1  02/10/2016 05:51:14 PM  02/10/2016 05:58:34 PM            1.1   \n",
       "2  02/13/2016 02:56:14 PM  02/13/2016 03:13:35 PM            6.6   \n",
       "3  02/15/2016 01:29:39 PM  02/15/2016 01:45:53 PM            2.2   \n",
       "4  02/27/2016 11:59:52 PM  02/28/2016 12:04:18 AM            1.2   \n",
       "\n",
       "   PULocationID  DOLocationID      speed  \n",
       "0           NaN           NaN  20.307692  \n",
       "1           NaN           NaN   9.000000  \n",
       "2           NaN           NaN  22.824207  \n",
       "3           NaN           NaN   8.131417  \n",
       "4           NaN           NaN  16.240602  "
      ]
     },
     "execution_count": 13,
     "metadata": {},
     "output_type": "execute_result"
    }
   ],
   "source": [
    "df_taxi.head()"
   ]
  },
  {
   "cell_type": "code",
   "execution_count": 15,
   "metadata": {},
   "outputs": [
    {
     "data": {
      "text/plain": [
       "count    6.094906e+07\n",
       "mean              inf\n",
       "std               NaN\n",
       "min     -3.698819e+08\n",
       "25%      7.309645e+00\n",
       "50%      1.005587e+01\n",
       "75%      1.382199e+01\n",
       "max               inf\n",
       "Name: speed, dtype: float64"
      ]
     },
     "execution_count": 15,
     "metadata": {},
     "output_type": "execute_result"
    }
   ],
   "source": [
    "#see what the speed column looks like\n",
    "df_taxi.speed.describe()\n",
    "#the max and min do not make any sense\n",
    "#anything <0 does not make sense, also anything over 60 is extremely fast for a city like new york"
   ]
  },
  {
   "cell_type": "code",
   "execution_count": 16,
   "metadata": {},
   "outputs": [],
   "source": [
    "#drop rows where speed > 60\n",
    "df_taxi = df_taxi.drop(df_taxi[df_taxi.speed > 60].index)"
   ]
  },
  {
   "cell_type": "code",
   "execution_count": 17,
   "metadata": {},
   "outputs": [],
   "source": [
    "#drop rows where speed < 0\n",
    "df_taxi = df_taxi.drop(df_taxi[df_taxi.speed < 0].index)"
   ]
  },
  {
   "cell_type": "code",
   "execution_count": 18,
   "metadata": {},
   "outputs": [
    {
     "data": {
      "text/plain": [
       "count    6.083116e+07\n",
       "mean     1.138239e+01\n",
       "std      6.206513e+00\n",
       "min      0.000000e+00\n",
       "25%      7.305524e+00\n",
       "50%      1.004651e+01\n",
       "75%      1.378896e+01\n",
       "max      6.000000e+01\n",
       "Name: speed, dtype: float64"
      ]
     },
     "execution_count": 18,
     "metadata": {},
     "output_type": "execute_result"
    }
   ],
   "source": [
    "df_taxi.speed.describe()"
   ]
  },
  {
   "cell_type": "code",
   "execution_count": 19,
   "metadata": {},
   "outputs": [
    {
     "name": "stdout",
     "output_type": "stream",
     "text": [
      "CPU times: user 8min 43s, sys: 1min 22s, total: 10min 6s\n",
      "Wall time: 11min 51s\n"
     ]
    }
   ],
   "source": [
    "%%time\n",
    "#write the dataframe to a csv file\n",
    "df_taxi.to_csv('taxi_edit.csv', index = False)"
   ]
  },
  {
   "cell_type": "code",
   "execution_count": null,
   "metadata": {},
   "outputs": [],
   "source": []
  }
 ],
 "metadata": {
  "kernelspec": {
   "display_name": "Python 3",
   "language": "python",
   "name": "python3"
  },
  "language_info": {
   "codemirror_mode": {
    "name": "ipython",
    "version": 3
   },
   "file_extension": ".py",
   "mimetype": "text/x-python",
   "name": "python",
   "nbconvert_exporter": "python",
   "pygments_lexer": "ipython3",
   "version": "3.7.3"
  }
 },
 "nbformat": 4,
 "nbformat_minor": 2
}
